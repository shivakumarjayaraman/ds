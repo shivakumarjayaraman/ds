{
 "cells": [
  {
   "cell_type": "code",
   "execution_count": 1,
   "id": "c28d15bc",
   "metadata": {},
   "outputs": [],
   "source": [
    "import numpy as np\n",
    "\n",
    "data = np.array([[1.5, -0.1, 3], [0, -3, 6.5]])"
   ]
  },
  {
   "cell_type": "code",
   "execution_count": null,
   "id": "5baa8855",
   "metadata": {},
   "outputs": [],
   "source": []
  },
  {
   "cell_type": "code",
   "execution_count": 2,
   "id": "f33e5641",
   "metadata": {},
   "outputs": [
    {
     "data": {
      "text/plain": [
       "array([[ 1.5, -0.1,  3. ],\n",
       "       [ 0. , -3. ,  6.5]])"
      ]
     },
     "execution_count": 2,
     "metadata": {},
     "output_type": "execute_result"
    }
   ],
   "source": [
    "data"
   ]
  },
  {
   "cell_type": "code",
   "execution_count": 3,
   "id": "9ef749ac",
   "metadata": {},
   "outputs": [
    {
     "data": {
      "text/plain": [
       "array([[ 4.5, -0.3,  9. ],\n",
       "       [ 0. , -9. , 19.5]])"
      ]
     },
     "execution_count": 3,
     "metadata": {},
     "output_type": "execute_result"
    }
   ],
   "source": [
    "data * 3\n"
   ]
  },
  {
   "cell_type": "code",
   "execution_count": 4,
   "id": "f28c3697",
   "metadata": {},
   "outputs": [
    {
     "data": {
      "text/plain": [
       "3.0"
      ]
     },
     "execution_count": 4,
     "metadata": {},
     "output_type": "execute_result"
    }
   ],
   "source": [
    "data[0,2]"
   ]
  },
  {
   "cell_type": "code",
   "execution_count": 5,
   "id": "2310941d",
   "metadata": {},
   "outputs": [
    {
     "data": {
      "text/plain": [
       "2"
      ]
     },
     "execution_count": 5,
     "metadata": {},
     "output_type": "execute_result"
    }
   ],
   "source": [
    "data.ndim\n"
   ]
  },
  {
   "cell_type": "code",
   "execution_count": 6,
   "id": "aab03460",
   "metadata": {},
   "outputs": [
    {
     "data": {
      "text/plain": [
       "(2, 3)"
      ]
     },
     "execution_count": 6,
     "metadata": {},
     "output_type": "execute_result"
    }
   ],
   "source": [
    "data.shape\n"
   ]
  },
  {
   "cell_type": "code",
   "execution_count": 7,
   "id": "80ecc9b6",
   "metadata": {},
   "outputs": [
    {
     "data": {
      "text/plain": [
       "array([[1., 0., 0., 0., 0.],\n",
       "       [0., 1., 0., 0., 0.],\n",
       "       [0., 0., 1., 0., 0.],\n",
       "       [0., 0., 0., 1., 0.],\n",
       "       [0., 0., 0., 0., 1.]])"
      ]
     },
     "execution_count": 7,
     "metadata": {},
     "output_type": "execute_result"
    }
   ],
   "source": [
    "a = np.zeros((2, 3, 2))\n",
    "b = np.ones_like(a)\n",
    "b\n",
    "np.identity(5)\n"
   ]
  },
  {
   "cell_type": "code",
   "execution_count": 8,
   "id": "b44c68d8",
   "metadata": {},
   "outputs": [
    {
     "data": {
      "text/plain": [
       "array([1., 2., 3., 4., 5.])"
      ]
     },
     "execution_count": 8,
     "metadata": {},
     "output_type": "execute_result"
    }
   ],
   "source": [
    "arr = np.array([1, 2, 3, 4, 5])\n",
    "arr.dtype\n",
    "farr = arr.astype(np.float64)\n",
    "farr"
   ]
  },
  {
   "cell_type": "code",
   "execution_count": 9,
   "id": "16a7ed65",
   "metadata": {},
   "outputs": [
    {
     "data": {
      "text/plain": [
       "array([[ True, False, False],\n",
       "       [False, False, False]])"
      ]
     },
     "execution_count": 9,
     "metadata": {},
     "output_type": "execute_result"
    }
   ],
   "source": [
    "a1 = np.array([[1, 2, 3], [4, 5, 6]])\n",
    "a1 * a1\n",
    "a1 - a1\n",
    "(1/(a1*2))\n",
    "a1**2\n",
    "a2 = np.arange(6).reshape(2, 3)\n",
    "a2 = a2*3\n",
    "a1 > a2"
   ]
  },
  {
   "cell_type": "code",
   "execution_count": 10,
   "id": "d1c0b7bb",
   "metadata": {},
   "outputs": [
    {
     "name": "stdout",
     "output_type": "stream",
     "text": [
      "[[ 0  1  2  3  4  5]\n",
      " [ 6  7  8  9 10 11]\n",
      " [12 13 14 15 16 17]\n",
      " [18 19 20 21 22 23]\n",
      " [24 25 26 27 28 29]]\n"
     ]
    },
    {
     "data": {
      "text/plain": [
       "array([[ 0,  1,  2,  3,  4,  5],\n",
       "       [ 6,  7,  8,  9, 10, 11],\n",
       "       [12, 13, 14,  5, 16, 17],\n",
       "       [18, 19, 20,  5, 22, 23],\n",
       "       [24, 25, 26, 27, 28, 29]])"
      ]
     },
     "execution_count": 10,
     "metadata": {},
     "output_type": "execute_result"
    }
   ],
   "source": [
    "a1 = np.arange(30).reshape(5, 6)\n",
    "print (a1)\n",
    "a1[1:4, 2:5]\n",
    "a1[2:4,3] = 19\n",
    "a1\n",
    "b = a1[2:4, 3]\n",
    "b[:] = 5\n",
    "a1"
   ]
  },
  {
   "cell_type": "code",
   "execution_count": 11,
   "id": "a963a68c",
   "metadata": {},
   "outputs": [
    {
     "name": "stdout",
     "output_type": "stream",
     "text": [
      "[[[ 1  2  3]\n",
      "  [ 4  5  6]]\n",
      "\n",
      " [[ 7  8  9]\n",
      "  [10 11 12]]]\n"
     ]
    },
    {
     "data": {
      "text/plain": [
       "array([ 7, 10])"
      ]
     },
     "execution_count": 11,
     "metadata": {},
     "output_type": "execute_result"
    }
   ],
   "source": [
    "arr3d = np.arange(12).reshape(2, 2, 3) + 1\n",
    "print (arr3d)\n",
    "arr3d[1,:,0]"
   ]
  },
  {
   "cell_type": "code",
   "execution_count": 12,
   "id": "8ddb43b7",
   "metadata": {},
   "outputs": [
    {
     "name": "stdout",
     "output_type": "stream",
     "text": [
      "[[1 2 3]\n",
      " [4 5 6]\n",
      " [7 8 9]]\n"
     ]
    },
    {
     "data": {
      "text/plain": [
       "array([3, 6])"
      ]
     },
     "execution_count": 12,
     "metadata": {},
     "output_type": "execute_result"
    }
   ],
   "source": [
    "arr2d = np.arange(9).reshape(3, 3)+ 1\n",
    "print (arr2d)\n",
    "arr2d[:2,1:]\n",
    "lower_dim_slice = arr2d[1,:2]\n",
    "lower_dim_slice\n",
    "arr2d[0:2,2]"
   ]
  },
  {
   "cell_type": "code",
   "execution_count": 13,
   "id": "cd36c17b",
   "metadata": {},
   "outputs": [
    {
     "name": "stdout",
     "output_type": "stream",
     "text": [
      "[[  4   7]\n",
      " [  0   2]\n",
      " [ -5   6]\n",
      " [  0   0]\n",
      " [  1   2]\n",
      " [-12  -4]\n",
      " [  3   4]]\n",
      "[[4 7]\n",
      " [0 2]\n",
      " [0 6]\n",
      " [0 0]\n",
      " [1 2]\n",
      " [0 0]\n",
      " [3 4]]\n"
     ]
    }
   ],
   "source": [
    "data = np.array([[4, 7], [0, 2], [-5, 6], [0, 0], [1, 2],[-12, -4], [3, 4]])\n",
    "print (data)\n",
    "data [data < 0] = 0\n",
    "print (data)"
   ]
  },
  {
   "cell_type": "code",
   "execution_count": 14,
   "id": "6a50e1af",
   "metadata": {},
   "outputs": [
    {
     "name": "stdout",
     "output_type": "stream",
     "text": [
      "[[0. 0. 0. 0.]\n",
      " [1. 1. 1. 1.]\n",
      " [2. 2. 2. 2.]\n",
      " [3. 3. 3. 3.]\n",
      " [4. 4. 4. 4.]\n",
      " [5. 5. 5. 5.]\n",
      " [6. 6. 6. 6.]\n",
      " [7. 7. 7. 7.]]\n"
     ]
    },
    {
     "data": {
      "text/plain": [
       "array([[4., 4., 4., 4.],\n",
       "       [3., 3., 3., 3.],\n",
       "       [0., 0., 0., 0.]])"
      ]
     },
     "execution_count": 14,
     "metadata": {},
     "output_type": "execute_result"
    }
   ],
   "source": [
    "arr  = np.zeros((8, 4))\n",
    "for i in range(8) :\n",
    "    arr[i] = i\n",
    "print (arr)\n",
    "\n",
    "arr[[4, 3, 0]]"
   ]
  },
  {
   "cell_type": "code",
   "execution_count": 15,
   "id": "7de9a924",
   "metadata": {},
   "outputs": [
    {
     "name": "stdout",
     "output_type": "stream",
     "text": [
      "[[ 0  1  0]\n",
      " [ 1  2 -2]\n",
      " [ 6  3  2]\n",
      " [-1  0 -1]\n",
      " [ 1  0  1]] [[ 0  1  6 -1  1]\n",
      " [ 1  2  3  0  0]\n",
      " [ 0 -2  2 -1  1]]\n"
     ]
    },
    {
     "data": {
      "text/plain": [
       "array([[39, 20, 12],\n",
       "       [20, 14,  2],\n",
       "       [12,  2, 10]])"
      ]
     },
     "execution_count": 15,
     "metadata": {},
     "output_type": "execute_result"
    }
   ],
   "source": [
    "arr = np.array([[0, 1, 0], [1, 2, -2], [6, 3, 2], [-1, 0, -1], [1, 0, 1]])\n",
    "print (arr, arr.T)\n",
    "np.dot(arr.T, arr)"
   ]
  },
  {
   "cell_type": "code",
   "execution_count": 19,
   "id": "2786a120",
   "metadata": {},
   "outputs": [
    {
     "name": "stdout",
     "output_type": "stream",
     "text": [
      "[[ 0  1  6 -1  1]\n",
      " [ 1  2  3  0  0]\n",
      " [ 0 -2  2 -1  1]]\n",
      "[[ 0  1  0]\n",
      " [ 1  2 -2]\n",
      " [ 6  3  2]\n",
      " [-1  0 -1]\n",
      " [ 1  0  1]]\n"
     ]
    }
   ],
   "source": [
    "print (arr.swapaxes(0, 1))\n",
    "print (arr)"
   ]
  },
  {
   "cell_type": "code",
   "execution_count": 25,
   "id": "94ad27d9",
   "metadata": {},
   "outputs": [
    {
     "data": {
      "text/plain": [
       "array([ 6,  8, 10, 12])"
      ]
     },
     "execution_count": 25,
     "metadata": {},
     "output_type": "execute_result"
    }
   ],
   "source": [
    "np.random.standard_normal(size=(4, 4))\n",
    "np.random.standard_normal(10)\n",
    "np.random.permutation([1, 2, 3, 4, 5])\n",
    "arr = np.array([1, 2, 3, 4])\n",
    "brr = np.array([5, 6, 7, 8])\n",
    "np.add(arr,brr)"
   ]
  },
  {
   "cell_type": "code",
   "execution_count": 39,
   "id": "8327034c",
   "metadata": {},
   "outputs": [],
   "source": [
    "a = np.arange(-5, 5, 0.01)\n",
    "\n",
    "xs, ys = np.meshgrid(a, a)\n",
    "\n",
    "dist = np.sqrt(xs*xs + ys*ys)\n",
    "\n",
    "import matplotlib.pyplot as plt"
   ]
  },
  {
   "cell_type": "code",
   "execution_count": 44,
   "id": "d8a20be4",
   "metadata": {},
   "outputs": [
    {
     "data": {
      "text/plain": [
       "array([7.07106781, 7.06400028, 7.05693985, 7.04988652, 7.04284034,\n",
       "       7.0358013 , 7.02876945, 7.0217448 , 7.01472736, 7.00771717,\n",
       "       7.00071425, 6.99371861, 6.98673028, 6.97974928, 6.97277563,\n",
       "       6.96580936, 6.95885048, 6.95189902, 6.944955  , 6.93801845,\n",
       "       6.93108938, 6.92416782, 6.91725379, 6.91034731, 6.90344841,\n",
       "       6.89655711, 6.88967343, 6.8827974 , 6.87592903, 6.86906835,\n",
       "       6.86221539, 6.85537016, 6.84853269, 6.841703  , 6.83488113,\n",
       "       6.82806708, 6.82126088, 6.81446256, 6.80767214, 6.80088965,\n",
       "       6.7941151 , 6.78734853, 6.78058994, 6.77383938, 6.76709687,\n",
       "       6.76036242, 6.75363606, 6.74691781, 6.74020771, 6.73350577,\n",
       "       6.72681202, 6.72012649, 6.71344919, 6.70678015, 6.7001194 ,\n",
       "       6.69346696, 6.68682286, 6.68018712, 6.67355977, 6.66694083,\n",
       "       6.66033032, 6.65372828, 6.64713472, 6.64054968, 6.63397317,\n",
       "       6.62740522, 6.62084587, 6.61429512, 6.60775302, 6.60121958,\n",
       "       6.59469484, 6.58817881, 6.58167152, 6.575173  , 6.56868328,\n",
       "       6.56220237, 6.55573032, 6.54926713, 6.54281285, 6.53636749,\n",
       "       6.52993109, 6.52350366, 6.51708524, 6.51067585, 6.50427552,\n",
       "       6.49788427, 6.49150214, 6.48512914, 6.47876531, 6.47241068,\n",
       "       6.46606526, 6.4597291 , 6.4534022 , 6.44708461, 6.44077635,\n",
       "       6.43447745, 6.42818793, 6.42190782, 6.41563715, 6.40937594,\n",
       "       6.40312424, 6.39688205, 6.39064942, 6.38442636, 6.37821292,\n",
       "       6.3720091 , 6.36581495, 6.35963049, 6.35345575, 6.34729076,\n",
       "       6.34113554, 6.33499013, 6.32885456, 6.32272884, 6.31661302,\n",
       "       6.31050711, 6.30441115, 6.29832517, 6.2922492 , 6.28618326,\n",
       "       6.28012739, 6.27408161, 6.26804595, 6.26202044, 6.25600512,\n",
       "       6.25      , 6.24400512, 6.23802052, 6.23204621, 6.22608224,\n",
       "       6.22012862, 6.21418539, 6.20825257, 6.20233021, 6.19641832,\n",
       "       6.19051694, 6.1846261 , 6.17874583, 6.17287615, 6.16701711,\n",
       "       6.16116872, 6.15533102, 6.14950405, 6.14368782, 6.13788237,\n",
       "       6.13208774, 6.12630394, 6.12053102, 6.11476901, 6.10901792,\n",
       "       6.10327781, 6.09754869, 6.0918306 , 6.08612356, 6.08042762,\n",
       "       6.07474279, 6.06906912, 6.06340663, 6.05775536, 6.05211533,\n",
       "       6.04648658, 6.04086914, 6.03526304, 6.02966832, 6.02408499,\n",
       "       6.01851311, 6.01295269, 6.00740377, 6.00186638, 5.99634055,\n",
       "       5.99082632, 5.98532372, 5.97983277, 5.97435352, 5.96888599,\n",
       "       5.96343022, 5.95798624, 5.95255407, 5.94713376, 5.94172534,\n",
       "       5.93632883, 5.93094428, 5.9255717 , 5.92021114, 5.91486264,\n",
       "       5.90952621, 5.90420189, 5.89888973, 5.89358974, 5.88830196,\n",
       "       5.88302643, 5.87776318, 5.87251224, 5.86727364, 5.86204742,\n",
       "       5.85683362, 5.85163225, 5.84644336, 5.84126699, 5.83610315,\n",
       "       5.83095189, 5.82581325, 5.82068724, 5.81557392, 5.8104733 ,\n",
       "       5.80538543, 5.80031034, 5.79524805, 5.79019861, 5.78516205,\n",
       "       5.78013841, 5.7751277 , 5.77012998, 5.76514527, 5.76017361,\n",
       "       5.75521503, 5.75026956, 5.74533724, 5.7404181 , 5.73551218,\n",
       "       5.73061951, 5.72574013, 5.72087406, 5.71602134, 5.71118201,\n",
       "       5.70635611, 5.70154365, 5.69674468, 5.69195924, 5.68718735,\n",
       "       5.68242906, 5.67768439, 5.67295338, 5.66823606, 5.66353247,\n",
       "       5.65884264, 5.65416661, 5.6495044 , 5.64485607, 5.64022163,\n",
       "       5.63560112, 5.63099458, 5.62640205, 5.62182355, 5.61725912,\n",
       "       5.61270879, 5.60817261, 5.6036506 , 5.59914279, 5.59464923,\n",
       "       5.59016994, 5.58570497, 5.58125434, 5.57681809, 5.57239625,\n",
       "       5.56798886, 5.56359596, 5.55921757, 5.55485373, 5.55050448,\n",
       "       5.54616985, 5.54184987, 5.53754458, 5.53325402, 5.52897821,\n",
       "       5.52471719, 5.52047099, 5.51623966, 5.51202322, 5.50782171,\n",
       "       5.50363516, 5.49946361, 5.49530709, 5.49116563, 5.48703927,\n",
       "       5.48292805, 5.47883199, 5.47475114, 5.47068551, 5.46663516,\n",
       "       5.46260011, 5.4585804 , 5.45457606, 5.45058712, 5.44661363,\n",
       "       5.4426556 , 5.43871308, 5.4347861 , 5.4308747 , 5.4269789 ,\n",
       "       5.42309875, 5.41923426, 5.41538549, 5.41155246, 5.4077352 ,\n",
       "       5.40393375, 5.40014815, 5.39637842, 5.39262459, 5.38888671,\n",
       "       5.38516481, 5.38145891, 5.37776905, 5.37409527, 5.3704376 ,\n",
       "       5.36679606, 5.3631707 , 5.35956155, 5.35596863, 5.35239199,\n",
       "       5.34883165, 5.34528764, 5.34176001, 5.33824878, 5.33475398,\n",
       "       5.33127564, 5.32781381, 5.32436851, 5.32093977, 5.31752762,\n",
       "       5.3141321 , 5.31075324, 5.30739107, 5.30404563, 5.30071693,\n",
       "       5.29740503, 5.29410993, 5.29083169, 5.28757033, 5.28432588,\n",
       "       5.28109837, 5.27788784, 5.2746943 , 5.27151781, 5.26835838,\n",
       "       5.26521604, 5.26209084, 5.25898279, 5.25589193, 5.25281829,\n",
       "       5.2497619 , 5.24672279, 5.24370098, 5.24069652, 5.23770942,\n",
       "       5.23473973, 5.23178746, 5.22885265, 5.22593532, 5.22303552,\n",
       "       5.22015325, 5.21728857, 5.21444148, 5.21161203, 5.20880025,\n",
       "       5.20600615, 5.20322977, 5.20047113, 5.19773027, 5.19500722,\n",
       "       5.19230199, 5.18961463, 5.18694515, 5.18429359, 5.18165997,\n",
       "       5.17904431, 5.17644666, 5.17386703, 5.17130544, 5.16876194,\n",
       "       5.16623654, 5.16372927, 5.16124016, 5.15876923, 5.15631651,\n",
       "       5.15388203, 5.15146581, 5.14906788, 5.14668826, 5.14432697,\n",
       "       5.14198405, 5.13965952, 5.1373534 , 5.13506572, 5.13279651,\n",
       "       5.13054578, 5.12831356, 5.12609988, 5.12390476, 5.12172822,\n",
       "       5.11957029, 5.117431  , 5.11531035, 5.11320839, 5.11112512,\n",
       "       5.10906058, 5.10701478, 5.10498776, 5.10297952, 5.1009901 ,\n",
       "       5.09901951, 5.09706778, 5.09513493, 5.09322098, 5.09132596,\n",
       "       5.08944987, 5.08759275, 5.08575461, 5.08393548, 5.08213538,\n",
       "       5.08035432, 5.07859232, 5.07684942, 5.07512561, 5.07342094,\n",
       "       5.0717354 , 5.07006903, 5.06842185, 5.06679386, 5.06518509,\n",
       "       5.06359556, 5.06202529, 5.06047429, 5.05894258, 5.05743018,\n",
       "       5.0559371 , 5.05446337, 5.053009  , 5.05157401, 5.05015841,\n",
       "       5.04876222, 5.04738546, 5.04602814, 5.04469028, 5.04337189,\n",
       "       5.04207299, 5.04079359, 5.03953371, 5.03829336, 5.03707256,\n",
       "       5.03587132, 5.03468966, 5.03352759, 5.03238512, 5.03126227,\n",
       "       5.03015904, 5.02907546, 5.02801154, 5.02696728, 5.0259427 ,\n",
       "       5.02493781, 5.02395263, 5.02298716, 5.02204142, 5.02111541,\n",
       "       5.02020916, 5.01932266, 5.01845594, 5.01760899, 5.01678184,\n",
       "       5.01597448, 5.01518694, 5.01441921, 5.01367131, 5.01294325,\n",
       "       5.01223503, 5.01154667, 5.01087817, 5.01022954, 5.00960078,\n",
       "       5.00899191, 5.00840294, 5.00783386, 5.00728469, 5.00675544,\n",
       "       5.0062461 , 5.00575669, 5.0052872 , 5.00483766, 5.00440806,\n",
       "       5.0039984 , 5.0036087 , 5.00323895, 5.00288917, 5.00255934,\n",
       "       5.00224949, 5.00195962, 5.00168971, 5.00143979, 5.00120985,\n",
       "       5.0009999 , 5.00080993, 5.00063996, 5.00048998, 5.00035999,\n",
       "       5.00024999, 5.00016   , 5.00009   , 5.00004   , 5.00001   ,\n",
       "       5.        , 5.00001   , 5.00004   , 5.00009   , 5.00016   ,\n",
       "       5.00024999, 5.00035999, 5.00048998, 5.00063996, 5.00080993,\n",
       "       5.0009999 , 5.00120985, 5.00143979, 5.00168971, 5.00195962,\n",
       "       5.00224949, 5.00255934, 5.00288917, 5.00323895, 5.0036087 ,\n",
       "       5.0039984 , 5.00440806, 5.00483766, 5.0052872 , 5.00575669,\n",
       "       5.0062461 , 5.00675544, 5.00728469, 5.00783386, 5.00840294,\n",
       "       5.00899191, 5.00960078, 5.01022954, 5.01087817, 5.01154667,\n",
       "       5.01223503, 5.01294325, 5.01367131, 5.01441921, 5.01518694,\n",
       "       5.01597448, 5.01678184, 5.01760899, 5.01845594, 5.01932266,\n",
       "       5.02020916, 5.02111541, 5.02204142, 5.02298716, 5.02395263,\n",
       "       5.02493781, 5.0259427 , 5.02696728, 5.02801154, 5.02907546,\n",
       "       5.03015904, 5.03126227, 5.03238512, 5.03352759, 5.03468966,\n",
       "       5.03587132, 5.03707256, 5.03829336, 5.03953371, 5.04079359,\n",
       "       5.04207299, 5.04337189, 5.04469028, 5.04602814, 5.04738546,\n",
       "       5.04876222, 5.05015841, 5.05157401, 5.053009  , 5.05446337,\n",
       "       5.0559371 , 5.05743018, 5.05894258, 5.06047429, 5.06202529,\n",
       "       5.06359556, 5.06518509, 5.06679386, 5.06842185, 5.07006903,\n",
       "       5.0717354 , 5.07342094, 5.07512561, 5.07684942, 5.07859232,\n",
       "       5.08035432, 5.08213538, 5.08393548, 5.08575461, 5.08759275,\n",
       "       5.08944987, 5.09132596, 5.09322098, 5.09513493, 5.09706778,\n",
       "       5.09901951, 5.1009901 , 5.10297952, 5.10498776, 5.10701478,\n",
       "       5.10906058, 5.11112512, 5.11320839, 5.11531035, 5.117431  ,\n",
       "       5.11957029, 5.12172822, 5.12390476, 5.12609988, 5.12831356,\n",
       "       5.13054578, 5.13279651, 5.13506572, 5.1373534 , 5.13965952,\n",
       "       5.14198405, 5.14432697, 5.14668826, 5.14906788, 5.15146581,\n",
       "       5.15388203, 5.15631651, 5.15876923, 5.16124016, 5.16372927,\n",
       "       5.16623654, 5.16876194, 5.17130544, 5.17386703, 5.17644666,\n",
       "       5.17904431, 5.18165997, 5.18429359, 5.18694515, 5.18961463,\n",
       "       5.19230199, 5.19500722, 5.19773027, 5.20047113, 5.20322977,\n",
       "       5.20600615, 5.20880025, 5.21161203, 5.21444148, 5.21728857,\n",
       "       5.22015325, 5.22303552, 5.22593532, 5.22885265, 5.23178746,\n",
       "       5.23473973, 5.23770942, 5.24069652, 5.24370098, 5.24672279,\n",
       "       5.2497619 , 5.25281829, 5.25589193, 5.25898279, 5.26209084,\n",
       "       5.26521604, 5.26835838, 5.27151781, 5.2746943 , 5.27788784,\n",
       "       5.28109837, 5.28432588, 5.28757033, 5.29083169, 5.29410993,\n",
       "       5.29740503, 5.30071693, 5.30404563, 5.30739107, 5.31075324,\n",
       "       5.3141321 , 5.31752762, 5.32093977, 5.32436851, 5.32781381,\n",
       "       5.33127564, 5.33475398, 5.33824878, 5.34176001, 5.34528764,\n",
       "       5.34883165, 5.35239199, 5.35596863, 5.35956155, 5.3631707 ,\n",
       "       5.36679606, 5.3704376 , 5.37409527, 5.37776905, 5.38145891,\n",
       "       5.38516481, 5.38888671, 5.39262459, 5.39637842, 5.40014815,\n",
       "       5.40393375, 5.4077352 , 5.41155246, 5.41538549, 5.41923426,\n",
       "       5.42309875, 5.4269789 , 5.4308747 , 5.4347861 , 5.43871308,\n",
       "       5.4426556 , 5.44661363, 5.45058712, 5.45457606, 5.4585804 ,\n",
       "       5.46260011, 5.46663516, 5.47068551, 5.47475114, 5.47883199,\n",
       "       5.48292805, 5.48703927, 5.49116563, 5.49530709, 5.49946361,\n",
       "       5.50363516, 5.50782171, 5.51202322, 5.51623966, 5.52047099,\n",
       "       5.52471719, 5.52897821, 5.53325402, 5.53754458, 5.54184987,\n",
       "       5.54616985, 5.55050448, 5.55485373, 5.55921757, 5.56359596,\n",
       "       5.56798886, 5.57239625, 5.57681809, 5.58125434, 5.58570497,\n",
       "       5.59016994, 5.59464923, 5.59914279, 5.6036506 , 5.60817261,\n",
       "       5.61270879, 5.61725912, 5.62182355, 5.62640205, 5.63099458,\n",
       "       5.63560112, 5.64022163, 5.64485607, 5.6495044 , 5.65416661,\n",
       "       5.65884264, 5.66353247, 5.66823606, 5.67295338, 5.67768439,\n",
       "       5.68242906, 5.68718735, 5.69195924, 5.69674468, 5.70154365,\n",
       "       5.70635611, 5.71118201, 5.71602134, 5.72087406, 5.72574013,\n",
       "       5.73061951, 5.73551218, 5.7404181 , 5.74533724, 5.75026956,\n",
       "       5.75521503, 5.76017361, 5.76514527, 5.77012998, 5.7751277 ,\n",
       "       5.78013841, 5.78516205, 5.79019861, 5.79524805, 5.80031034,\n",
       "       5.80538543, 5.8104733 , 5.81557392, 5.82068724, 5.82581325,\n",
       "       5.83095189, 5.83610315, 5.84126699, 5.84644336, 5.85163225,\n",
       "       5.85683362, 5.86204742, 5.86727364, 5.87251224, 5.87776318,\n",
       "       5.88302643, 5.88830196, 5.89358974, 5.89888973, 5.90420189,\n",
       "       5.90952621, 5.91486264, 5.92021114, 5.9255717 , 5.93094428,\n",
       "       5.93632883, 5.94172534, 5.94713376, 5.95255407, 5.95798624,\n",
       "       5.96343022, 5.96888599, 5.97435352, 5.97983277, 5.98532372,\n",
       "       5.99082632, 5.99634055, 6.00186638, 6.00740377, 6.01295269,\n",
       "       6.01851311, 6.02408499, 6.02966832, 6.03526304, 6.04086914,\n",
       "       6.04648658, 6.05211533, 6.05775536, 6.06340663, 6.06906912,\n",
       "       6.07474279, 6.08042762, 6.08612356, 6.0918306 , 6.09754869,\n",
       "       6.10327781, 6.10901792, 6.11476901, 6.12053102, 6.12630394,\n",
       "       6.13208774, 6.13788237, 6.14368782, 6.14950405, 6.15533102,\n",
       "       6.16116872, 6.16701711, 6.17287615, 6.17874583, 6.1846261 ,\n",
       "       6.19051694, 6.19641832, 6.20233021, 6.20825257, 6.21418539,\n",
       "       6.22012862, 6.22608224, 6.23204621, 6.23802052, 6.24400512,\n",
       "       6.25      , 6.25600512, 6.26202044, 6.26804595, 6.27408161,\n",
       "       6.28012739, 6.28618326, 6.2922492 , 6.29832517, 6.30441115,\n",
       "       6.31050711, 6.31661302, 6.32272884, 6.32885456, 6.33499013,\n",
       "       6.34113554, 6.34729076, 6.35345575, 6.35963049, 6.36581495,\n",
       "       6.3720091 , 6.37821292, 6.38442636, 6.39064942, 6.39688205,\n",
       "       6.40312424, 6.40937594, 6.41563715, 6.42190782, 6.42818793,\n",
       "       6.43447745, 6.44077635, 6.44708461, 6.4534022 , 6.4597291 ,\n",
       "       6.46606526, 6.47241068, 6.47876531, 6.48512914, 6.49150214,\n",
       "       6.49788427, 6.50427552, 6.51067585, 6.51708524, 6.52350366,\n",
       "       6.52993109, 6.53636749, 6.54281285, 6.54926713, 6.55573032,\n",
       "       6.56220237, 6.56868328, 6.575173  , 6.58167152, 6.58817881,\n",
       "       6.59469484, 6.60121958, 6.60775302, 6.61429512, 6.62084587,\n",
       "       6.62740522, 6.63397317, 6.64054968, 6.64713472, 6.65372828,\n",
       "       6.66033032, 6.66694083, 6.67355977, 6.68018712, 6.68682286,\n",
       "       6.69346696, 6.7001194 , 6.70678015, 6.71344919, 6.72012649,\n",
       "       6.72681202, 6.73350577, 6.74020771, 6.74691781, 6.75363606,\n",
       "       6.76036242, 6.76709687, 6.77383938, 6.78058994, 6.78734853,\n",
       "       6.7941151 , 6.80088965, 6.80767214, 6.81446256, 6.82126088,\n",
       "       6.82806708, 6.83488113, 6.841703  , 6.84853269, 6.85537016,\n",
       "       6.86221539, 6.86906835, 6.87592903, 6.8827974 , 6.88967343,\n",
       "       6.89655711, 6.90344841, 6.91034731, 6.91725379, 6.92416782,\n",
       "       6.93108938, 6.93801845, 6.944955  , 6.95189902, 6.95885048,\n",
       "       6.96580936, 6.97277563, 6.97974928, 6.98673028, 6.99371861,\n",
       "       7.00071425, 7.00771717, 7.01472736, 7.0217448 , 7.02876945,\n",
       "       7.0358013 , 7.04284034, 7.04988652, 7.05693985, 7.06400028])"
      ]
     },
     "execution_count": 44,
     "metadata": {},
     "output_type": "execute_result"
    },
    {
     "data": {
      "image/png": "[encoded data removed]",
      "text/plain": [
       "<Figure size 432x288 with 1 Axes>"
      ]
     },
     "metadata": {
      "needs_background": "light"
     },
     "output_type": "display_data"
    }
   ],
   "source": [
    "plt.imshow(dist, cmap=plt.cm.gray, extent=[-5, 5, -5, 5])\n",
    "#plt.colorbar()\n",
    "dist[0]"
   ]
  },
  {
   "cell_type": "code",
   "execution_count": 52,
   "id": "7d560046",
   "metadata": {},
   "outputs": [
    {
     "name": "stdout",
     "output_type": "stream",
     "text": [
      "[[ 0  1  2  3  4]\n",
      " [ 5  6  7  8  9]\n",
      " [10 11 12 13 14]\n",
      " [15 16 17 18 19]\n",
      " [20 21 22 23 24]\n",
      " [25 26 27 28 29]]\n",
      "[12.5 13.5 14.5 15.5 16.5]\n"
     ]
    }
   ],
   "source": [
    "a = np.arange(30).reshape(6, 5)\n",
    "print(a)\n",
    "\n",
    "print (a.mean(axis=0))"
   ]
  },
  {
   "cell_type": "code",
   "execution_count": 55,
   "id": "cb2b6caf",
   "metadata": {},
   "outputs": [
    {
     "data": {
      "text/plain": [
       "array([4, 5, 7, 8, 9])"
      ]
     },
     "execution_count": 55,
     "metadata": {},
     "output_type": "execute_result"
    }
   ],
   "source": [
    "a = np.array([5, 4, 7 , 8, 9])\n",
    "np.sort(a)\n",
    "a.sort()\n",
    "a"
   ]
  },
  {
   "cell_type": "code",
   "execution_count": 71,
   "id": "1cc73eef",
   "metadata": {},
   "outputs": [
    {
     "name": "stdout",
     "output_type": "stream",
     "text": [
      "[[-1 -1  1 -1  1  1 -1 -1 -1  1]\n",
      " [-1  1 -1  1  1 -1  1  1  1  1]\n",
      " [ 1  1 -1  1  1  1 -1  1  1 -1]\n",
      " [-1 -1 -1 -1  1  1  1 -1  1 -1]\n",
      " [ 1 -1 -1 -1  1 -1 -1 -1  1 -1]]\n",
      "[[-1 -2 -1 -2 -1  0 -1 -2 -3 -2]\n",
      " [-1  0 -1  0  1  0  1  2  3  4]\n",
      " [ 1  2  1  2  3  4  3  4  5  4]\n",
      " [-1 -2 -3 -4 -3 -2 -1 -2 -1 -2]\n",
      " [ 1  0 -1 -2 -1 -2 -3 -4 -3 -4]]\n",
      "[5 9 8 0 0]\n"
     ]
    }
   ],
   "source": [
    "nsteps = 10\n",
    "nwalks = 5\n",
    "rng = np.random.default_rng()\n",
    "d = rng.integers(0, 2, size=(nwalks, nsteps))\n",
    "\n",
    "steps = np.where(d == 0, -1, 1)\n",
    "print (steps)\n",
    "walk = steps.cumsum(axis=1)\n",
    "print (walk)\n",
    "walk.max(axis=1)\n",
    "print (walk.argmax(axis=1))"
   ]
  },
  {
   "cell_type": "code",
   "execution_count": null,
   "id": "d3b5d17a",
   "metadata": {},
   "outputs": [],
   "source": []
  }
 ],
 "metadata": {
  "kernelspec": {
   "display_name": "Python 3",
   "language": "python",
   "name": "python3"
  },
  "language_info": {
   "codemirror_mode": {
    "name": "ipython",
    "version": 3
   },
   "file_extension": ".py",
   "mimetype": "text/x-python",
   "name": "python",
   "nbconvert_exporter": "python",
   "pygments_lexer": "ipython3",
   "version": "3.8.8"
  }
 },
 "nbformat": 4,
 "nbformat_minor": 5
}
