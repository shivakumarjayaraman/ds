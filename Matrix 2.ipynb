{
 "cells": [
  {
   "cell_type": "code",
   "execution_count": 1,
   "id": "5b4106c4",
   "metadata": {},
   "outputs": [],
   "source": [
    "import numpy as np\n",
    "import matplotlib.pyplot as plt\n"
   ]
  },
  {
   "cell_type": "code",
   "execution_count": 2,
   "id": "456688f8",
   "metadata": {},
   "outputs": [],
   "source": [
    "def frobNorm(m) :\n",
    "    return np.sqrt(sum(m[i,j]*m[i,j] for i in range(len(m)) for j in range(len(m[0]))))"
   ]
  },
  {
   "cell_type": "code",
   "execution_count": 3,
   "id": "5d276fd2",
   "metadata": {},
   "outputs": [
    {
     "data": {
      "text/plain": [
       "[<matplotlib.lines.Line2D at 0x7f70c1d41d30>]"
      ]
     },
     "execution_count": 3,
     "metadata": {},
     "output_type": "execute_result"
    },
    {
     "data": {
      "image/png": "[encoded data removed]",
      "text/plain": [
       "<Figure size 432x288 with 1 Axes>"
      ]
     },
     "metadata": {
      "needs_background": "light"
     },
     "output_type": "display_data"
    }
   ],
   "source": [
    "vals = np.zeros(500).reshape(10, 50)\n",
    "\n",
    "for exp in range(10) :\n",
    "    mat = np.random.rand(10, 10)\n",
    "    for scalar in range(50):\n",
    "        vals[exp, scalar] = frobNorm(scalar*mat)\n",
    "\n",
    "yvals = np.mean(vals, axis=0)\n",
    "plt.plot(np.arange(50), yvals, \"b*\")\n",
    "    \n",
    "\n"
   ]
  },
  {
   "cell_type": "code",
   "execution_count": 4,
   "id": "9d4d3093",
   "metadata": {},
   "outputs": [
    {
     "name": "stdout",
     "output_type": "stream",
     "text": [
      "9.539392014169456\n",
      "9.539392014169456\n",
      "[2.5 3.5 4.5]\n"
     ]
    }
   ],
   "source": [
    "a = np.array([[1, 2, 3], [4, 5, 6]])\n",
    "print (frobNorm(a))\n",
    "print (np.linalg.norm(a))\n",
    "\n",
    "print(np.mean(a, axis=0))"
   ]
  },
  {
   "cell_type": "code",
   "execution_count": 5,
   "id": "0f624f5a",
   "metadata": {},
   "outputs": [
    {
     "name": "stdout",
     "output_type": "stream",
     "text": [
      "Initial d is  2.500502782353412\n",
      "s is 0.9 and d is 2.2504525041180705\n",
      "s is 0.81 and d is 2.0254072537062635\n",
      "s is 0.7290000000000001 and d is 1.8228665283356376\n",
      "s is 0.6561000000000001 and d is 1.6405798755020735\n",
      "s is 0.5904900000000002 and d is 1.4765218879518665\n",
      "s is 0.5314410000000002 and d is 1.3288696991566797\n",
      "s is 0.47829690000000014 and d is 1.1959827292410117\n",
      "s is 0.43046721000000016 and d is 1.0763844563169105\n",
      "s is 0.38742048900000015 and d is 0.9687460106852196\n",
      "9 0.38742048900000015 0.9687460106852196\n"
     ]
    }
   ],
   "source": [
    "## Find scalar that brings Frobenius distance between two matrices to 1\n",
    "\n",
    "def frobDistance(a, b):\n",
    "    if (a.shape != b.shape) : raise Exception(\"oops\")\n",
    "    return frobNorm(a-b)\n",
    "\n",
    "N = 7\n",
    "\n",
    "a = np.random.rand(N, N)\n",
    "b = np.random.rand(N, N)\n",
    "\n",
    "s = 1\n",
    "d = frobDistance(a, b)\n",
    "print (\"Initial d is \", d)\n",
    "numIter = 0\n",
    "while (d >  1) :\n",
    "    numIter += 1\n",
    "    s = 0.9 *s\n",
    "    d = frobDistance(s*a, s*b)\n",
    "    print (f\"s is {s} and d is {d}\")\n",
    "\n",
    "print (numIter, s, frobDistance(s*a, s*b))"
   ]
  },
  {
   "cell_type": "code",
   "execution_count": 7,
   "id": "6adc4dab",
   "metadata": {},
   "outputs": [
    {
     "name": "stdout",
     "output_type": "stream",
     "text": [
      "1.6924157613803021\n",
      "1.6924157613803021\n",
      "1.6924157613803024\n",
      "1.6924157613803024\n"
     ]
    }
   ],
   "source": [
    "a = np.random.rand(5, 3)\n",
    "print (frobNorm(a))\n",
    "print (np.linalg.norm(a))\n",
    "print (np.sqrt((a@a.T).trace()))\n",
    "print (np.sqrt((a.T@a).trace()))"
   ]
  },
  {
   "cell_type": "code",
   "execution_count": 27,
   "id": "69c2cb7d",
   "metadata": {},
   "outputs": [
    {
     "data": {
      "text/plain": [
       "[<matplotlib.lines.Line2D at 0x7f70be91b280>]"
      ]
     },
     "execution_count": 27,
     "metadata": {},
     "output_type": "execute_result"
    },
    {
     "data": {
      "image/png": "[encoded data removed]",
      "text/plain": [
       "<Figure size 432x288 with 1 Axes>"
      ]
     },
     "metadata": {
      "needs_background": "light"
     },
     "output_type": "display_data"
    }
   ],
   "source": [
    "def cosineSim(a, b) :\n",
    "    return np.dot(a, b)/(np.linalg.norm(a) * np.linalg.norm(b))\n",
    "\n",
    "a = np.random.rand(10, 10)\n",
    "anorm = np.linalg.norm(a)\n",
    "xvals = np.arange(0, 1, 1/30)\n",
    "\n",
    "normchangeper = np.zeros(len(xvals))\n",
    "frobDist = np.zeros(len(xvals))\n",
    "corrCoeff = np.zeros(len(xvals))\n",
    "\n",
    "for i in range(len(xvals)) :\n",
    "    shifted = a + i*np.eye(10, 10)\n",
    "    shiftednorm = np.linalg.norm(shifted)\n",
    "    \n",
    "    frobDist[i] = frobDistance(shifted, a)\n",
    "    corrCoeff[i] = cosineSim(a.flatten(), shifted.flatten())\n",
    "    normchangeper[i] = 100*np.abs(shiftednorm - anorm)/anorm\n",
    "    \n",
    "plt.plot(xvals, normchangeper, 'b*')\n",
    "\n",
    "    "
   ]
  },
  {
   "cell_type": "code",
   "execution_count": 25,
   "id": "03ba872f",
   "metadata": {},
   "outputs": [
    {
     "data": {
      "text/plain": [
       "[<matplotlib.lines.Line2D at 0x7f70be9da970>]"
      ]
     },
     "execution_count": 25,
     "metadata": {},
     "output_type": "execute_result"
    },
    {
     "data": {
      "image/png": "[encoded data removed]",
      "text/plain": [
       "<Figure size 432x288 with 1 Axes>"
      ]
     },
     "metadata": {
      "needs_background": "light"
     },
     "output_type": "display_data"
    }
   ],
   "source": [
    "plt.plot(xvals, corrCoeff, 'r*')\n",
    "\n",
    "    "
   ]
  },
  {
   "cell_type": "code",
   "execution_count": 28,
   "id": "ab021fe1",
   "metadata": {},
   "outputs": [
    {
     "data": {
      "text/plain": [
       "[<matplotlib.lines.Line2D at 0x7f70be8e2fd0>]"
      ]
     },
     "execution_count": 28,
     "metadata": {},
     "output_type": "execute_result"
    },
    {
     "data": {
      "image/png": "[encoded data removed]",
      "text/plain": [
       "<Figure size 432x288 with 1 Axes>"
      ]
     },
     "metadata": {
      "needs_background": "light"
     },
     "output_type": "display_data"
    }
   ],
   "source": [
    "plt.plot(xvals, frobDist, 'g*')"
   ]
  },
  {
   "cell_type": "code",
   "execution_count": 30,
   "id": "7e36dfa9",
   "metadata": {},
   "outputs": [],
   "source": [
    "def createMatrixOfRank(N, M, r) :\n",
    "    return np.random.rand(N, r) @ np.random.rand(r, M)"
   ]
  },
  {
   "cell_type": "code",
   "execution_count": 36,
   "id": "3596c17d",
   "metadata": {},
   "outputs": [
    {
     "name": "stdout",
     "output_type": "stream",
     "text": [
      "3\n"
     ]
    }
   ],
   "source": [
    "m1 = createMatrixOfRank(5, 4, 3)\n",
    "print (np.linalg.matrix_rank(m1))"
   ]
  },
  {
   "cell_type": "code",
   "execution_count": 52,
   "id": "59fac69c",
   "metadata": {},
   "outputs": [
    {
     "name": "stdout",
     "output_type": "stream",
     "text": [
      "3\n",
      "0\n"
     ]
    }
   ],
   "source": [
    "rank0Mat = createMatrixOfRank(3, 3, 0)\n",
    "rank1Mat = createMatrixOfRank(3, 3, 1)\n",
    "rank2Mat = createMatrixOfRank(3, 3, 2)\n",
    "rank3Mat = createMatrixOfRank(3, 3, 3)\n",
    "\n",
    "##print (rank1Mat)\n",
    "\n",
    "print (np.linalg.matrix_rank(rank3Mat + rank2Mat))\n",
    "print (np.linalg.matrix_rank(rank3Mat @ rank0Mat))"
   ]
  },
  {
   "cell_type": "code",
   "execution_count": 58,
   "id": "66b6b2ab",
   "metadata": {},
   "outputs": [
    {
     "name": "stdout",
     "output_type": "stream",
     "text": [
      "3\n",
      "3\n",
      "3\n",
      "3\n"
     ]
    }
   ],
   "source": [
    "rank3Mat = createMatrixOfRank(4, 5, 3)\n",
    "\n",
    "print (np.linalg.matrix_rank(rank3Mat))\n",
    "print (np.linalg.matrix_rank(rank3Mat.T))\n",
    "print (np.linalg.matrix_rank(rank3Mat@rank3Mat.T))\n",
    "print (np.linalg.matrix_rank(rank3Mat.T@rank3Mat))"
   ]
  },
  {
   "cell_type": "code",
   "execution_count": 77,
   "id": "0a2ecdfe",
   "metadata": {},
   "outputs": [
    {
     "name": "stdout",
     "output_type": "stream",
     "text": [
      "4\n"
     ]
    }
   ],
   "source": [
    "rank3Mat = createMatrixOfRank(4, 4, 4)\n",
    "vec = np.random.rand(4, 1)\n",
    "\n",
    "## augment matrix with vec\n",
    "augmented = np.hstack((rank3Mat, vec))\n",
    "print (np.linalg.matrix_rank(augmented))"
   ]
  },
  {
   "cell_type": "code",
   "execution_count": 82,
   "id": "a320f5d6",
   "metadata": {},
   "outputs": [
    {
     "name": "stdout",
     "output_type": "stream",
     "text": [
      "-2.800683516676051e-35\n"
     ]
    }
   ],
   "source": [
    "reducedRankMat = createMatrixOfRank(4, 4, 2)\n",
    "print (np.linalg.det(reducedRankMat))"
   ]
  }
 ],
 "metadata": {
  "kernelspec": {
   "display_name": "Python 3",
   "language": "python",
   "name": "python3"
  },
  "language_info": {
   "codemirror_mode": {
    "name": "ipython",
    "version": 3
   },
   "file_extension": ".py",
   "mimetype": "text/x-python",
   "name": "python",
   "nbconvert_exporter": "python",
   "pygments_lexer": "ipython3",
   "version": "3.8.8"
  }
 },
 "nbformat": 4,
 "nbformat_minor": 5
}
