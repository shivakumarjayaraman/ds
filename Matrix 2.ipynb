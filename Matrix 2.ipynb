{
 "cells": [
  {
   "cell_type": "code",
   "execution_count": 12,
   "id": "5b4106c4",
   "metadata": {},
   "outputs": [],
   "source": [
    "import numpy as np\n",
    "import matplotlib.pyplot as plt\n"
   ]
  },
  {
   "cell_type": "code",
   "execution_count": 13,
   "id": "456688f8",
   "metadata": {},
   "outputs": [],
   "source": [
    "def frobNorm(m) :\n",
    "    return np.sqrt(sum(m[i,j]*m[i,j] for i in range(len(m)) for j in range(len(m[0]))))"
   ]
  },
  {
   "cell_type": "code",
   "execution_count": 16,
   "id": "5d276fd2",
   "metadata": {},
   "outputs": [
    {
     "data": {
      "text/plain": [
       "[<matplotlib.lines.Line2D at 0x7fa2a1e8fd60>]"
      ]
     },
     "execution_count": 16,
     "metadata": {},
     "output_type": "execute_result"
    },
    {
     "data": {
      "image/png": "[encoded data removed]",
      "text/plain": [
       "<Figure size 432x288 with 1 Axes>"
      ]
     },
     "metadata": {
      "needs_background": "light"
     },
     "output_type": "display_data"
    }
   ],
   "source": [
    "vals = np.zeros(500).reshape(10, 50)\n",
    "\n",
    "for exp in range(10) :\n",
    "    mat = np.random.rand(10, 10)\n",
    "    for scalar in range(50):\n",
    "        vals[exp, scalar] = frobNorm(scalar*mat)\n",
    "\n",
    "yvals = np.mean(vals, axis=0)\n",
    "plt.plot(np.arange(50), yvals, \"b*\")\n",
    "    \n",
    "\n"
   ]
  },
  {
   "cell_type": "code",
   "execution_count": 21,
   "id": "9d4d3093",
   "metadata": {},
   "outputs": [
    {
     "name": "stdout",
     "output_type": "stream",
     "text": [
      "9.539392014169456\n",
      "9.539392014169456\n",
      "[2.5 3.5 4.5]\n"
     ]
    }
   ],
   "source": [
    "a = np.array([[1, 2, 3], [4, 5, 6]])\n",
    "print (frobNorm(a))\n",
    "print (np.linalg.norm(a))\n",
    "\n",
    "print(np.mean(a, axis=0))"
   ]
  },
  {
   "cell_type": "code",
   "execution_count": 37,
   "id": "0f624f5a",
   "metadata": {},
   "outputs": [
    {
     "name": "stdout",
     "output_type": "stream",
     "text": [
      "Initial d is  2.702574471889462\n",
      "s is 0.9 and d is 2.432317024700516\n",
      "s is 0.81 and d is 2.189085322230465\n",
      "s is 0.7290000000000001 and d is 1.9701767900074183\n",
      "s is 0.6561000000000001 and d is 1.7731591110066764\n",
      "s is 0.5904900000000002 and d is 1.595843199906009\n",
      "s is 0.5314410000000002 and d is 1.4362588799154083\n",
      "s is 0.47829690000000014 and d is 1.2926329919238673\n",
      "s is 0.43046721000000016 and d is 1.1633696927314807\n",
      "s is 0.38742048900000015 and d is 1.0470327234583328\n",
      "s is 0.34867844010000015 and d is 0.9423294511124994\n",
      "10 0.34867844010000015 0.9423294511124994\n"
     ]
    }
   ],
   "source": [
    "## Find scalar that brings Frobenius distance between two matrices to 1\n",
    "\n",
    "def frobDistance(a, b):\n",
    "    if (a.shape != b.shape) : raise Exception(\"oops\")\n",
    "    return frobNorm(a-b)\n",
    "\n",
    "N = 7\n",
    "\n",
    "a = np.random.rand(N, N)\n",
    "b = np.random.rand(N, N)\n",
    "\n",
    "s = 1\n",
    "d = frobDistance(a, b)\n",
    "print (\"Initial d is \", d)\n",
    "numIter = 0\n",
    "while (d >  1) :\n",
    "    numIter += 1\n",
    "    s = 0.9 *s\n",
    "    d = frobDistance(s*a, s*b)\n",
    "    print (f\"s is {s} and d is {d}\")\n",
    "\n",
    "print (numIter, s, frobDistance(s*a, s*b))"
   ]
  },
  {
   "cell_type": "code",
   "execution_count": 43,
   "id": "6adc4dab",
   "metadata": {},
   "outputs": [
    {
     "name": "stdout",
     "output_type": "stream",
     "text": [
      "2.2982938896876446\n",
      "2.2982938896876446\n",
      "2.2982938896876446\n",
      "2.2982938896876446\n"
     ]
    }
   ],
   "source": [
    "a = np.random.rand(5, 3)\n",
    "print (frobNorm(a))\n",
    "print (np.linalg.norm(a))\n",
    "print (np.sqrt((a@a.T).trace()))\n",
    "print (np.sqrt((a.T@a).trace()))"
   ]
  }
 ],
 "metadata": {
  "kernelspec": {
   "display_name": "Python 3",
   "language": "python",
   "name": "python3"
  },
  "language_info": {
   "codemirror_mode": {
    "name": "ipython",
    "version": 3
   },
   "file_extension": ".py",
   "mimetype": "text/x-python",
   "name": "python",
   "nbconvert_exporter": "python",
   "pygments_lexer": "ipython3",
   "version": "3.8.8"
  }
 },
 "nbformat": 4,
 "nbformat_minor": 5
}
